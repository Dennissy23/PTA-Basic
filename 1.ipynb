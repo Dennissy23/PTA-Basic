{
 "cells": [
  {
   "cell_type": "code",
   "execution_count": null,
   "source": [
    "n = input()\r\n",
    "n = int(n)\r\n",
    "i = 0\r\n",
    "while n > 1:\r\n",
    "    if (n%2) == 0:\r\n",
    "        n = n/2\r\n",
    "    else:\r\n",
    "        n = (3*n+1)/2\r\n",
    "    i =i+1\r\n",
    "print(i)"
   ],
   "outputs": [],
   "metadata": {}
  }
 ],
 "metadata": {
  "orig_nbformat": 4,
  "language_info": {
   "name": "python"
  }
 },
 "nbformat": 4,
 "nbformat_minor": 2
}