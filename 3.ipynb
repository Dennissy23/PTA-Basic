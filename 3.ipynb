{
 "cells": [
  {
   "cell_type": "code",
   "execution_count": null,
   "source": [
    "import re   #导入正则表达式\r\n",
    "n = int(input())    #n为输入字符串的个数\r\n",
    "for i in range(n):  #对每一个输入的字符串测试是否符合条件\r\n",
    "    temp = input()\r\n",
    "    if re.match(r'A*PA+TA*',temp):  #字符串中必须仅有 P、 A、 T这三种字符，不可以包含其它字符,且其他部分都用A填充\r\n",
    "                                    #* :(>=0)表示其前边的字符需要出现0次或者多次\r\n",
    "                                    #+ :(>=1)其前边的字符需要出现1次或者多次\r\n",
    "        a = re.split(r'[P|T]',temp)      #a表示用P或T将字符串分割开，用来测试3\r\n",
    "                                    #| :表示或\r\n",
    "                                    #[]表示要匹配的字符只能取材于[]里面\r\n",
    "        if len(a[0]) * len(a[1]) == len(a[2]):  #也可写成 if len(a[0]) * a[1] == a[2]:\r\n",
    "            print('YES')\r\n",
    "        else:\r\n",
    "            print('NO')\r\n",
    "    else:\r\n",
    "        print('NO')"
   ],
   "outputs": [],
   "metadata": {}
  }
 ],
 "metadata": {
  "orig_nbformat": 4,
  "language_info": {
   "name": "python"
  }
 },
 "nbformat": 4,
 "nbformat_minor": 2
}