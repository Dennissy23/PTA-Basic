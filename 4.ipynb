{
 "cells": [
  {
   "cell_type": "code",
   "execution_count": null,
   "source": [
    "i = int(input())\r\n",
    "list1 = []\r\n",
    "list2 = []\r\n",
    "list3 = []\r\n",
    "while i >0:\r\n",
    "    list0 = input().split(' ')\r\n",
    "    list1.append(list0[0])\r\n",
    "    list2.append(list0[1])\r\n",
    "    list3.append(int(list0[2]))\r\n",
    "    i -= 1\r\n",
    "j = list3.index(max(list3))\r\n",
    "k = list3.index(min(list3))\r\n",
    "print ('%s %s' % (list1[j],list2[j]))\r\n",
    "print ('%s %s' % (list1[k],list2[k]))"
   ],
   "outputs": [],
   "metadata": {}
  }
 ],
 "metadata": {
  "orig_nbformat": 4,
  "language_info": {
   "name": "python"
  }
 },
 "nbformat": 4,
 "nbformat_minor": 2
}