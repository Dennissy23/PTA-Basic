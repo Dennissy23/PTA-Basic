{
 "cells": [
  {
   "cell_type": "code",
   "execution_count": null,
   "source": [
    "value = input()\r\n",
    "value = int(value)\r\n",
    "#提取一个整数的各位数字\r\n",
    "result = []\r\n",
    "while value:\r\n",
    "        result.append(value % 10)   #求余数\r\n",
    "        value = value // 10     #整除\r\n",
    "result.reverse()                #反转列表\r\n",
    "\r\n",
    "sum1 = sum(result)              #求和\r\n",
    "\r\n",
    "x = []\r\n",
    "while sum1:\r\n",
    "        x.append(sum1 % 10)\r\n",
    "        sum1 = sum1 // 10\r\n",
    "x.reverse()\r\n",
    "\r\n",
    "y = []\r\n",
    "for i in range(0,len(x)):\r\n",
    "    if x[i] == 1:\r\n",
    "        y.append(\"yi\")\r\n",
    "    if x[i] == 2:\r\n",
    "        y.append(\"er\")\r\n",
    "    if x[i] == 3:\r\n",
    "        y.append(\"san\")    \r\n",
    "    if x[i] == 4:\r\n",
    "        y.append(\"si\")    \r\n",
    "    if x[i] == 5:\r\n",
    "        y.append(\"wu\")\r\n",
    "    if x[i] == 6:\r\n",
    "        y.append(\"liu\") \r\n",
    "    if x[i] == 7:\r\n",
    "        y.append(\"qi\")\r\n",
    "    if x[i] == 8:\r\n",
    "        y.append(\"ba\")\r\n",
    "    if x[i] == 9:\r\n",
    "        y.append(\"jiu\")\r\n",
    "    if x[i] == 0:\r\n",
    "        y.append(\"ling\")\r\n",
    "        \r\n",
    "print(' '.join(y))       #将字符串用空格隔开统一显示"
   ],
   "outputs": [],
   "metadata": {}
  },
  {
   "cell_type": "code",
   "execution_count": null,
   "source": [
    "list1=list(input())\r\n",
    "#输入的字符串转化为列表\r\n",
    "total=0\r\n",
    "for value in list1:\r\n",
    "    value=int(value)\r\n",
    "    #将列表list1中的元素转换为int\r\n",
    "    total=total+value\r\n",
    "list2=['ling','yi','er','san','si','wu','liu','qi','ba','jiu']\r\n",
    "list3=list(str(total))\r\n",
    "#将total由int转换成str，再把每一位数字拆分成list3中的元素\r\n",
    "lenth=len(list3)\r\n",
    "for value1 in list3:\r\n",
    "    if lenth>1:\r\n",
    "        print(list2[int(value1)],end=' ')\r\n",
    "    else:\r\n",
    "        print(list2[int(value1)],end='')\r\n",
    "    lenth=lenth-1\r\n"
   ],
   "outputs": [],
   "metadata": {}
  }
 ],
 "metadata": {
  "orig_nbformat": 4,
  "language_info": {
   "name": "python",
   "version": "3.8.8",
   "mimetype": "text/x-python",
   "codemirror_mode": {
    "name": "ipython",
    "version": 3
   },
   "pygments_lexer": "ipython3",
   "nbconvert_exporter": "python",
   "file_extension": ".py"
  },
  "kernelspec": {
   "name": "python3",
   "display_name": "Python 3.8.8 64-bit ('base': conda)"
  },
  "interpreter": {
   "hash": "07efdcd4b820c98a756949507a4d29d7862823915ec7477944641bea022f4f62"
  }
 },
 "nbformat": 4,
 "nbformat_minor": 2
}